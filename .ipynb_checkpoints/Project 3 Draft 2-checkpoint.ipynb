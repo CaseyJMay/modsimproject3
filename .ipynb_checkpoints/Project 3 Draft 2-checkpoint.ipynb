{
 "cells": [
  {
   "cell_type": "markdown",
   "metadata": {},
   "source": [
    "# Project 3 Draft 2\n",
    "\n",
    "Casey May and Alex Wenstrup"
   ]
  },
  {
   "cell_type": "code",
   "execution_count": 2,
   "metadata": {},
   "outputs": [],
   "source": [
    "#Configure notebook and import libaries\n",
    "from modsim import *\n",
    "%matplotlib inline"
   ]
  },
  {
   "cell_type": "code",
   "execution_count": 3,
   "metadata": {},
   "outputs": [],
   "source": [
    "#Define Units\n",
    "s = UNITS.second\n",
    "m = UNITS.meter\n",
    "kg = UNITS.kilogram\n",
    "N = UNITS.newton"
   ]
  },
  {
   "cell_type": "code",
   "execution_count": 5,
   "metadata": {},
   "outputs": [],
   "source": [
    "p = Params(init_speed = 28000 * m/s, \n",
    "                init_angle = 3 * pi / 4, \n",
    "                dist_s = 150e9 * m, \n",
    "                mass_s2 = 1e30 * kg)"
   ]
  },
  {
   "cell_type": "code",
   "execution_count": 9,
   "metadata": {},
   "outputs": [],
   "source": [
    "def make_system(params):\n",
    "    \n",
    "    unpack(params)\n",
    "    \n",
    "    vx,vy = pol2cart(init_angle, init_speed)\n",
    "   \n",
    "    init = State(xp = 0 * m, yp = 0 * m,\n",
    "                vxp = vx * m/s, vyp = vy * m/s,\n",
    "                xs1 = -dist_s, ys1 = 0 * m,\n",
    "                vxs1 = 0 * m/s, vys1 = -10543.6 * m/s,\n",
    "                xs2 = dist_s, ys2 = 0 * m,\n",
    "                vxs2 = 0 * m/s, vys2 = 10543.6 * m/s)\n",
    "    return System(params, \n",
    "                  init=init,\n",
    "                  mass_s1 = 1e30 * kg,\n",
    "                  mass_p = 1e24 * kg,\n",
    "                  G = 6.67e-11 * N * m ** 2 / kg ** 2,\n",
    "                  r_final = 5e9 * m,\n",
    "                  t_end = 60 * 60 * 24 * 2500 * s)"
   ]
  },
  {
   "cell_type": "code",
   "execution_count": 10,
   "metadata": {},
   "outputs": [
    {
     "data": {
      "text/html": [
       "<div>\n",
       "<style scoped>\n",
       "    .dataframe tbody tr th:only-of-type {\n",
       "        vertical-align: middle;\n",
       "    }\n",
       "\n",
       "    .dataframe tbody tr th {\n",
       "        vertical-align: top;\n",
       "    }\n",
       "\n",
       "    .dataframe thead th {\n",
       "        text-align: right;\n",
       "    }\n",
       "</style>\n",
       "<table border=\"1\" class=\"dataframe\">\n",
       "  <thead>\n",
       "    <tr style=\"text-align: right;\">\n",
       "      <th></th>\n",
       "      <th>values</th>\n",
       "    </tr>\n",
       "  </thead>\n",
       "  <tbody>\n",
       "    <tr>\n",
       "      <th>init_speed</th>\n",
       "      <td>28000.0 meter / second</td>\n",
       "    </tr>\n",
       "    <tr>\n",
       "      <th>init_angle</th>\n",
       "      <td>2.35619</td>\n",
       "    </tr>\n",
       "    <tr>\n",
       "      <th>dist_s</th>\n",
       "      <td>150000000000.0 meter</td>\n",
       "    </tr>\n",
       "    <tr>\n",
       "      <th>mass_s2</th>\n",
       "      <td>1e+30 kilogram</td>\n",
       "    </tr>\n",
       "    <tr>\n",
       "      <th>init</th>\n",
       "      <td>xp                                          0 ...</td>\n",
       "    </tr>\n",
       "    <tr>\n",
       "      <th>mass_s1</th>\n",
       "      <td>1e+30 kilogram</td>\n",
       "    </tr>\n",
       "    <tr>\n",
       "      <th>mass_p</th>\n",
       "      <td>1e+24 kilogram</td>\n",
       "    </tr>\n",
       "    <tr>\n",
       "      <th>G</th>\n",
       "      <td>6.67e-11 meter ** 2 * newton / kilogram ** 2</td>\n",
       "    </tr>\n",
       "    <tr>\n",
       "      <th>r_final</th>\n",
       "      <td>5000000000.0 meter</td>\n",
       "    </tr>\n",
       "    <tr>\n",
       "      <th>t_end</th>\n",
       "      <td>216000000 second</td>\n",
       "    </tr>\n",
       "  </tbody>\n",
       "</table>\n",
       "</div>"
      ],
      "text/plain": [
       "init_speed                               28000.0 meter / second\n",
       "init_angle                                              2.35619\n",
       "dist_s                                     150000000000.0 meter\n",
       "mass_s2                                          1e+30 kilogram\n",
       "init          xp                                          0 ...\n",
       "mass_s1                                          1e+30 kilogram\n",
       "mass_p                                           1e+24 kilogram\n",
       "G                  6.67e-11 meter ** 2 * newton / kilogram ** 2\n",
       "r_final                                      5000000000.0 meter\n",
       "t_end                                          216000000 second\n",
       "dtype: object"
      ]
     },
     "execution_count": 10,
     "metadata": {},
     "output_type": "execute_result"
    }
   ],
   "source": [
    "system = make_system(p)\n",
    "system"
   ]
  },
  {
   "cell_type": "code",
   "execution_count": 11,
   "metadata": {},
   "outputs": [],
   "source": [
    "def relative_position1(state):\n",
    "    xp, yp, vxp, vyp, xs1, ys1, vxs1, vys1, xs2, ys2, vxs2, vys2 = state\n",
    "    pos = Vector(xp - xs1, yp - ys1)\n",
    "    return pos"
   ]
  },
  {
   "cell_type": "code",
   "execution_count": 15,
   "metadata": {},
   "outputs": [],
   "source": [
    "def relative_position2(state):\n",
    "    xp, yp, vxp, vyp, xs1, ys1, vxs1, vys1, xs2, ys2, vxs2, vys2 = state\n",
    "    pos = Vector(xp - xs2, yp - ys2)\n",
    "    return pos"
   ]
  },
  {
   "cell_type": "code",
   "execution_count": 16,
   "metadata": {},
   "outputs": [],
   "source": [
    "def relative_position_s1(state):\n",
    "    xp, yp, vxp, vyp, xs1, ys1, vxs1, vys1, xs2, ys2, vxs2, vys2 = state\n",
    "    pos = Vector(xs1 - xs2, ys1 - ys2)\n",
    "    return pos"
   ]
  },
  {
   "cell_type": "code",
   "execution_count": 17,
   "metadata": {},
   "outputs": [],
   "source": [
    "def relative_position_s2(state):\n",
    "    xp, yp, vxp, vyp, xs1, ys1, vxs1, vys1, xs2, ys2, vxs2, vys2 = state\n",
    "    pos = Vector(xs2 - xs1, ys2 - ys1)\n",
    "    return pos"
   ]
  },
  {
   "cell_type": "code",
   "execution_count": 20,
   "metadata": {},
   "outputs": [],
   "source": [
    "def grav1(state, t, system):\n",
    "    xp, yp, vxp, vyp, xs1, ys1, vxs1, vys1, xs2, ys2, vxs2, vys2 = state\n",
    "    unpack(system)\n",
    "    pos = relative_position1(state)\n",
    "    #vel = Vector(vxp, vyp)\n",
    "    force_mag = -G * mass_s1 * mass_p / (pos.mag ** 2)\n",
    "    force_dir = pos.hat()\n",
    "    force = force_dir * force_mag\n",
    "    return force"
   ]
  },
  {
   "cell_type": "code",
   "execution_count": 21,
   "metadata": {},
   "outputs": [],
   "source": [
    "def grav2(state, t, system):\n",
    "    xp, yp, vxp, vyp, xs1, ys1, vxs1, vys1, xs2, ys2, vxs2, vys2 = state\n",
    "    unpack(system)\n",
    "    pos = relative_position2(state)\n",
    "    #vel = Vector(vxp, vyp)\n",
    "    force_mag = -G * mass_s2 * mass_p / (pos.mag ** 2)\n",
    "    force_dir = pos.hat()\n",
    "    force = force_dir * force_mag\n",
    "    return force"
   ]
  },
  {
   "cell_type": "code",
   "execution_count": 22,
   "metadata": {},
   "outputs": [],
   "source": [
    "def grav_s1(state, t, system):\n",
    "    xp, yp, vxp, vyp, xs1, ys1, vxs1, vys1, xs2, ys2, vxs2, vys2 = state\n",
    "    unpack(system)\n",
    "    pos = relative_position_s1(state)\n",
    "    #vel = Vector(vxp, vyp)\n",
    "    force_mag = -G * mass_s1 * mass_s2 / (pos.mag ** 2)\n",
    "    force_dir = pos.hat()\n",
    "    force = force_dir * force_mag\n",
    "    return force"
   ]
  },
  {
   "cell_type": "code",
   "execution_count": 23,
   "metadata": {},
   "outputs": [],
   "source": [
    "def grav_s2(state, t, system):\n",
    "    xp, yp, vxp, vyp, xs1, ys1, vxs1, vys1, xs2, ys2, vxs2, vys2 = state\n",
    "    unpack(system)\n",
    "    pos = relative_position_s2(state)\n",
    "    #vel = Vector(vxp, vyp)\n",
    "    force_mag = -G * mass_s1 * mass_s2 / (pos.mag ** 2)\n",
    "    force_dir = pos.hat()\n",
    "    force = force_dir * force_mag\n",
    "    return force"
   ]
  },
  {
   "cell_type": "code",
   "execution_count": 24,
   "metadata": {},
   "outputs": [],
   "source": [
    "def gravp(state, t, system):\n",
    "    return grav1(state, t, system) + grav2(state, t, system)"
   ]
  },
  {
   "cell_type": "code",
   "execution_count": 182,
   "metadata": {},
   "outputs": [],
   "source": [
    "def slope_func(state, t, system):\n",
    "    x1, x2, y1, y2, vx, vy = state\n",
    "    unpack(system)  \n",
    "    \n",
    "    xhat = Vector(1, 0)\n",
    "    yhat = Vector(0, 1)\n",
    "    \n",
    "    v= Vector(vx, vy)\n",
    "    r1= Vector(x1, y1)\n",
    "    r2= Vector(x2, y2)\n",
    "    force = grav(state, t, system)\n",
    "    \n",
    "    dx1dt = v.x\n",
    "    dx2dt = v.x\n",
    "    dy1dt = v.y\n",
    "    dy2dt = v.y\n",
    "    dvxdt = force.dot(xhat) / mass_p\n",
    "    dvydt = force.dot(yhat) / mass_p\n",
    "    \n",
    "    return dx1dt, dx2dt, dy1dt, dy2dt, dvxdt, dvydt"
   ]
  },
  {
   "cell_type": "code",
   "execution_count": 183,
   "metadata": {},
   "outputs": [],
   "source": [
    "def event_func1(state, t, system):\n",
    "    x1, x2, y1, y2, vx, vy = state\n",
    "    unpack(system)  \n",
    "    \n",
    "    pos = Vector(x1, y1)\n",
    "    return pos.mag - r_final"
   ]
  },
  {
   "cell_type": "code",
   "execution_count": 184,
   "metadata": {},
   "outputs": [],
   "source": [
    "def event_func2(state, t, system):\n",
    "    x1, x2, y1, y2, vx, vy = state\n",
    "    unpack(system)  \n",
    "    \n",
    "    pos = Vector(x2, y2)\n",
    "    return pos.mag - r_final"
   ]
  },
  {
   "cell_type": "code",
   "execution_count": 185,
   "metadata": {},
   "outputs": [],
   "source": [
    "def event_func3(state, t, system):\n",
    "    x1, x2, y1, y2, vx, vy = state\n",
    "    unpack(system)  \n",
    "    \n",
    "    pos = Vector(x1, y1)\n",
    "    return 750e9 - pos.mag"
   ]
  },
  {
   "cell_type": "code",
   "execution_count": 186,
   "metadata": {},
   "outputs": [],
   "source": [
    "def event_func4(state, t, system):\n",
    "    x1, x2, y1, y2, vx, vy = state\n",
    "    unpack(system)  \n",
    "    \n",
    "    pos = Vector(x2, y2)\n",
    "    return 750e9 - pos.mag"
   ]
  },
  {
   "cell_type": "code",
   "execution_count": 205,
   "metadata": {},
   "outputs": [
    {
     "data": {
      "text/html": [
       "<div>\n",
       "<style scoped>\n",
       "    .dataframe tbody tr th:only-of-type {\n",
       "        vertical-align: middle;\n",
       "    }\n",
       "\n",
       "    .dataframe tbody tr th {\n",
       "        vertical-align: top;\n",
       "    }\n",
       "\n",
       "    .dataframe thead th {\n",
       "        text-align: right;\n",
       "    }\n",
       "</style>\n",
       "<table border=\"1\" class=\"dataframe\">\n",
       "  <thead>\n",
       "    <tr style=\"text-align: right;\">\n",
       "      <th></th>\n",
       "      <th>values</th>\n",
       "    </tr>\n",
       "  </thead>\n",
       "  <tbody>\n",
       "    <tr>\n",
       "      <th>sol</th>\n",
       "      <td>None</td>\n",
       "    </tr>\n",
       "    <tr>\n",
       "      <th>t_events</th>\n",
       "      <td>[[], [], [], []]</td>\n",
       "    </tr>\n",
       "    <tr>\n",
       "      <th>nfev</th>\n",
       "      <td>1532</td>\n",
       "    </tr>\n",
       "    <tr>\n",
       "      <th>njev</th>\n",
       "      <td>0</td>\n",
       "    </tr>\n",
       "    <tr>\n",
       "      <th>nlu</th>\n",
       "      <td>0</td>\n",
       "    </tr>\n",
       "    <tr>\n",
       "      <th>status</th>\n",
       "      <td>0</td>\n",
       "    </tr>\n",
       "    <tr>\n",
       "      <th>message</th>\n",
       "      <td>The solver successfully reached the end of the...</td>\n",
       "    </tr>\n",
       "    <tr>\n",
       "      <th>success</th>\n",
       "      <td>True</td>\n",
       "    </tr>\n",
       "  </tbody>\n",
       "</table>\n",
       "</div>"
      ],
      "text/plain": [
       "sol                                                      None\n",
       "t_events                                     [[], [], [], []]\n",
       "nfev                                                     1532\n",
       "njev                                                        0\n",
       "nlu                                                         0\n",
       "status                                                      0\n",
       "message     The solver successfully reached the end of the...\n",
       "success                                                  True\n",
       "dtype: object"
      ]
     },
     "execution_count": 205,
     "metadata": {},
     "output_type": "execute_result"
    }
   ],
   "source": [
    "results, details = run_ode_solver(system, slope_func, events=(event_func1, event_func2, event_func3, event_func4))\n",
    "details"
   ]
  },
  {
   "cell_type": "code",
   "execution_count": 206,
   "metadata": {},
   "outputs": [
    {
     "data": {
      "text/plain": [
       "0"
      ]
     },
     "execution_count": 206,
     "metadata": {},
     "output_type": "execute_result"
    }
   ],
   "source": [
    "details.t_events[0].size"
   ]
  },
  {
   "cell_type": "code",
   "execution_count": 207,
   "metadata": {},
   "outputs": [],
   "source": [
    "results.index /= 60 * 60 * 24\n",
    "results.x1 /= 1e9\n",
    "results.y1 /= 1e9\n"
   ]
  },
  {
   "cell_type": "code",
   "execution_count": 208,
   "metadata": {},
   "outputs": [
    {
     "data": {
      "text/plain": [
       "[<matplotlib.lines.Line2D at 0x21626a97978>]"
      ]
     },
     "execution_count": 208,
     "metadata": {},
     "output_type": "execute_result"
    },
    {
     "data": {
      "image/png": "[encoded data removed]",
      "text/plain": [
       "<Figure size 432x288 with 1 Axes>"
      ]
     },
     "metadata": {
      "needs_background": "light"
     },
     "output_type": "display_data"
    }
   ],
   "source": [
    "plot(results.x1, results.y1)\n",
    "plot(0,0, marker='x')\n",
    "plot(system.dist_s / 1e9, 0, marker='x')"
   ]
  },
  {
   "cell_type": "code",
   "execution_count": 191,
   "metadata": {},
   "outputs": [],
   "source": [
    "def time_func(parameters):\n",
    "    system = make_system(parameters)\n",
    "    results, deets = run_ode_solver(system, slope_func, events=(event_func1, event_func2, event_func3, event_func4))\n",
    "    t = system.t_end\n",
    "    for time in deets.t_events:\n",
    "        if time.size == 1:\n",
    "            t = time[0]\n",
    "    print(t)\n",
    "    return t"
   ]
  },
  {
   "cell_type": "code",
   "execution_count": 192,
   "metadata": {},
   "outputs": [],
   "source": [
    "def sweep_angle(angles):\n",
    "    \n",
    "    sweep = SweepSeries()\n",
    "\n",
    "    for angle in angles:\n",
    "        parameters = Params(params, init_angle = angle)\n",
    "        time = time_func(parameters)\n",
    "        sweep[angle] = time\n",
    "        \n",
    "    return sweep"
   ]
  },
  {
   "cell_type": "code",
   "execution_count": 202,
   "metadata": {},
   "outputs": [
    {
     "name": "stdout",
     "output_type": "stream",
     "text": [
      "init_speed    28000.0 meter / second\n",
      "init_angle                   2.67035\n",
      "dist_s          250000000000.0 meter\n",
      "mass_s2               1e+30 kilogram\n",
      "dtype: object\n",
      "216000000 second\n",
      "92757409.39177966\n",
      "16566975.48012865\n",
      "65229073.82752918\n",
      "65946244.82764746\n",
      "32581530.664526753\n",
      "30646776.749503188\n",
      "45989012.42969689\n",
      "43600692.576672934\n",
      "71917684.39681934\n",
      "216000000 second\n",
      "87983396.11123437\n",
      "27322727.99192183\n",
      "14380598.70677638\n",
      "13384034.80692507\n",
      "12411241.148379905\n",
      "11456275.97683575\n",
      "3193715.815833203\n",
      "3077949.818202836\n",
      "3017986.285243333\n",
      "2999027.72352041\n"
     ]
    },
    {
     "data": {
      "text/plain": [
       "[<matplotlib.lines.Line2D at 0x216281551d0>]"
      ]
     },
     "execution_count": 202,
     "metadata": {},
     "output_type": "execute_result"
    },
    {
     "data": {
      "image/png": "[encoded data removed]",
      "text/plain": [
       "<Figure size 432x288 with 1 Axes>"
      ]
     },
     "metadata": {
      "needs_background": "light"
     },
     "output_type": "display_data"
    }
   ],
   "source": [
    "print(params)\n",
    "angles = linspace(pi/2, pi, 21)\n",
    "sweep = sweep_angle(angles)\n",
    "plot(sweep)"
   ]
  },
  {
   "cell_type": "code",
   "execution_count": 203,
   "metadata": {},
   "outputs": [],
   "source": [
    "def sweep_speed(speeds):\n",
    "    \n",
    "    sweep = SweepSeries()\n",
    "\n",
    "    for speed in speeds:\n",
    "        parameters = Params(params, init_speed = speed)\n",
    "        time = time_func(parameters)\n",
    "        sweep[speed] = time\n",
    "        \n",
    "    return sweep"
   ]
  },
  {
   "cell_type": "code",
   "execution_count": 204,
   "metadata": {},
   "outputs": [
    {
     "name": "stdout",
     "output_type": "stream",
     "text": [
      "init_speed    28000.0 meter / second\n",
      "init_angle                   2.67035\n",
      "dist_s          250000000000.0 meter\n",
      "mass_s2               1e+30 kilogram\n",
      "dtype: object\n",
      "5727178.265939577\n",
      "5315956.88371672\n",
      "4987443.2982520545\n",
      "4725594.065806478\n",
      "24364382.283889897\n",
      "34934945.1270369\n",
      "21747301.135969818\n",
      "12629404.759472417\n",
      "12807552.945957448\n",
      "13384032.266526572\n",
      "14697508.860481646\n",
      "16706265.875575371\n",
      "66483850.48742867\n",
      "82542430.56171554\n",
      "216000000 second\n",
      "216000000 second\n",
      "216000000 second\n",
      "35058584.70284637\n",
      "25680041.555568904\n",
      "21284728.440049518\n",
      "18521651.213047907\n"
     ]
    },
    {
     "data": {
      "text/plain": [
       "[<matplotlib.lines.Line2D at 0x2162805f470>]"
      ]
     },
     "execution_count": 204,
     "metadata": {},
     "output_type": "execute_result"
    },
    {
     "data": {
      "image/png": "[encoded data removed]",
      "text/plain": [
       "<Figure size 432x288 with 1 Axes>"
      ]
     },
     "metadata": {
      "needs_background": "light"
     },
     "output_type": "display_data"
    }
   ],
   "source": [
    "print(params)\n",
    "speeds = linspace(10000, 50000, 21)\n",
    "sweep = sweep_speed(speeds)\n",
    "plot(sweep)"
   ]
  },
  {
   "cell_type": "code",
   "execution_count": null,
   "metadata": {},
   "outputs": [],
   "source": []
  }
 ],
 "metadata": {
  "kernelspec": {
   "display_name": "Python 3",
   "language": "python",
   "name": "python3"
  },
  "language_info": {
   "codemirror_mode": {
    "name": "ipython",
    "version": 3
   },
   "file_extension": ".py",
   "mimetype": "text/x-python",
   "name": "python",
   "nbconvert_exporter": "python",
   "pygments_lexer": "ipython3",
   "version": "3.6.6"
  }
 },
 "nbformat": 4,
 "nbformat_minor": 2
}
