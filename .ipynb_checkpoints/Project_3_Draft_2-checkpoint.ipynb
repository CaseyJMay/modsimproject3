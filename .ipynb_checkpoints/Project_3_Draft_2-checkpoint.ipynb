{
 "cells": [
  {
   "cell_type": "markdown",
   "metadata": {},
   "source": [
    "# ModSim Project 3\n",
    "\n",
    "Casey May and Alex Wenstrup"
   ]
  },
  {
   "cell_type": "code",
   "execution_count": 2,
   "metadata": {},
   "outputs": [],
   "source": [
    "#Configure notebook and import libaries\n",
    "from modsim import *\n",
    "%matplotlib inline\n"
   ]
  },
  {
   "cell_type": "markdown",
   "metadata": {},
   "source": [
    "# Question:\n",
    "#### In a binary star system, is it possible to have a planet orbit in a figure 8 pattern, and if so, how stable can we make it and what paramaters are the most influential?\n"
   ]
  },
  {
   "cell_type": "markdown",
   "metadata": {},
   "source": [
    "# Model\n",
    "Our model of this system treats all bodies as point masses, and treats gravity as the only significant force. It also ignores the gravitation affect of the planet on the two suns. Thoughout the simulation, the x and y positions and velocities are recoreded relative to a stationary reference plane."
   ]
  },
  {
   "cell_type": "code",
   "execution_count": 3,
   "metadata": {},
   "outputs": [],
   "source": [
    "#Define Units\n",
    "s = UNITS.second\n",
    "m = UNITS.meter\n",
    "kg = UNITS.kilogram\n",
    "N = UNITS.newton"
   ]
  },
  {
   "cell_type": "markdown",
   "metadata": {},
   "source": [
    "First, we define the Params object that will contain some of our model parameters. Note that these values are all based off of values in our solar system, with the exception of init_angle. We had to arbitrarily chose a value for the planet's initial trajectory, but that will be swept later in the model."
   ]
  },
  {
   "cell_type": "code",
   "execution_count": 4,
   "metadata": {},
   "outputs": [],
   "source": [
    "#Define parameters object\n",
    "p = Params(init_speed = 30300 * m/s, \n",
    "                init_angle = 3 * pi / 4, \n",
    "                dist_s = 150e9 * m, \n",
    "                mass_s2 = 1e30 * kg)"
   ]
  },
  {
   "cell_type": "markdown",
   "metadata": {},
   "source": [
    "Here, we define our make_system function. This is the only function in our model which has system parameters hard coded into it. The initial velocities of the suns were calculated (calculations shown below) so that they suns would orbit each other in a perfect circle. We chose to do this because we were more concerned with the planet's behavior than the suns', so modeled their motion as simply as we could. Where possible, our values are based off of distances and masses found in our solar system.\n",
    "\n",
    "r_final is the distance at which we consider the planet and sun to be too close, causing an orbit we no longer classify as a figure 8.\n",
    "Likewise, r_escape is the distance at which we consider the planet and sun to be too far, also causing an orbit we no longer classify as a figure 8. We also found that running the simulation for 3000 days was long enough to reach a termination event for most simulations, without taking too long to run."
   ]
  },
  {
   "cell_type": "markdown",
   "metadata": {},
   "source": [
    "![Calculations](suncalcs.jpg \"Calculations\")"
   ]
  },
  {
   "cell_type": "code",
   "execution_count": 5,
   "metadata": {},
   "outputs": [],
   "source": [
    "def make_system(params):\n",
    "    \"\"\"Makes a System object.\n",
    "    \n",
    "    params: Object containing all the values that may be swept at any time in the model.\n",
    "    \n",
    "    returns: System object\n",
    "    \"\"\"\n",
    "    \n",
    "    unpack(params)\n",
    "    \n",
    "    vx,vy = pol2cart(init_angle, init_speed)\n",
    "   \n",
    "    init = State(xp = 0 * m, yp = 0 * m,\n",
    "                vxp = vx * m/s, vyp = vy * m/s,\n",
    "                xs1 = -dist_s, ys1 = 0 * m,\n",
    "                vxs1 = 0 * m/s, vys1 = -10543.6 * m/s,\n",
    "                xs2 = dist_s, ys2 = 0 * m,\n",
    "                vxs2 = 0 * m/s, vys2 = 10543.6 * m/s)\n",
    "    return System(params, \n",
    "                  init=init,\n",
    "                  mass_s1 = 1e30 * kg,\n",
    "                  mass_p = 6e24 * kg,\n",
    "                  G = 6.67e-11 * N * m ** 2 / kg ** 2,\n",
    "                  r_final = 5e9 * m,\n",
    "                  r_escape = 750e9 * m,\n",
    "                  t_end = 60 * 60 * 24 * 3000 * s)"
   ]
  },
  {
   "cell_type": "code",
   "execution_count": 6,
   "metadata": {},
   "outputs": [
    {
     "data": {
      "text/html": [
       "<div>\n",
       "<style scoped>\n",
       "    .dataframe tbody tr th:only-of-type {\n",
       "        vertical-align: middle;\n",
       "    }\n",
       "\n",
       "    .dataframe tbody tr th {\n",
       "        vertical-align: top;\n",
       "    }\n",
       "\n",
       "    .dataframe thead th {\n",
       "        text-align: right;\n",
       "    }\n",
       "</style>\n",
       "<table border=\"1\" class=\"dataframe\">\n",
       "  <thead>\n",
       "    <tr style=\"text-align: right;\">\n",
       "      <th></th>\n",
       "      <th>values</th>\n",
       "    </tr>\n",
       "  </thead>\n",
       "  <tbody>\n",
       "    <tr>\n",
       "      <th>init_speed</th>\n",
       "      <td>30300.0 meter / second</td>\n",
       "    </tr>\n",
       "    <tr>\n",
       "      <th>init_angle</th>\n",
       "      <td>2.35619</td>\n",
       "    </tr>\n",
       "    <tr>\n",
       "      <th>dist_s</th>\n",
       "      <td>150000000000.0 meter</td>\n",
       "    </tr>\n",
       "    <tr>\n",
       "      <th>mass_s2</th>\n",
       "      <td>1e+30 kilogram</td>\n",
       "    </tr>\n",
       "    <tr>\n",
       "      <th>init</th>\n",
       "      <td>xp                                           0...</td>\n",
       "    </tr>\n",
       "    <tr>\n",
       "      <th>mass_s1</th>\n",
       "      <td>1e+30 kilogram</td>\n",
       "    </tr>\n",
       "    <tr>\n",
       "      <th>mass_p</th>\n",
       "      <td>6e+24 kilogram</td>\n",
       "    </tr>\n",
       "    <tr>\n",
       "      <th>G</th>\n",
       "      <td>6.67e-11 meter ** 2 * newton / kilogram ** 2</td>\n",
       "    </tr>\n",
       "    <tr>\n",
       "      <th>r_final</th>\n",
       "      <td>5000000000.0 meter</td>\n",
       "    </tr>\n",
       "    <tr>\n",
       "      <th>r_escape</th>\n",
       "      <td>750000000000.0 meter</td>\n",
       "    </tr>\n",
       "    <tr>\n",
       "      <th>t_end</th>\n",
       "      <td>259200000 second</td>\n",
       "    </tr>\n",
       "  </tbody>\n",
       "</table>\n",
       "</div>"
      ],
      "text/plain": [
       "init_speed                               30300.0 meter / second\n",
       "init_angle                                              2.35619\n",
       "dist_s                                     150000000000.0 meter\n",
       "mass_s2                                          1e+30 kilogram\n",
       "init          xp                                           0...\n",
       "mass_s1                                          1e+30 kilogram\n",
       "mass_p                                           6e+24 kilogram\n",
       "G                  6.67e-11 meter ** 2 * newton / kilogram ** 2\n",
       "r_final                                      5000000000.0 meter\n",
       "r_escape                                   750000000000.0 meter\n",
       "t_end                                          259200000 second\n",
       "dtype: object"
      ]
     },
     "execution_count": 6,
     "metadata": {},
     "output_type": "execute_result"
    }
   ],
   "source": [
    "system = make_system(p)\n",
    "system"
   ]
  },
  {
   "cell_type": "markdown",
   "metadata": {},
   "source": [
    "Now, we define the relative positions of all of the bodies of our system. Since our suns will be in an orbit themselves, we need to define their position relative to each other as well as relative to the planet. "
   ]
  },
  {
   "cell_type": "code",
   "execution_count": 7,
   "metadata": {},
   "outputs": [],
   "source": [
    "def relative_position1(state):\n",
    "    \"\"\"Calculates the position vector of the planet relative to sun 1. \n",
    "    \n",
    "    state: The current state of all three bodies, with position and velocity values\n",
    "    \n",
    "    return: Position vector\n",
    "    \"\"\"\n",
    "    xp, yp, vxp, vyp, xs1, ys1, vxs1, vys1, xs2, ys2, vxs2, vys2 = state\n",
    "    pos = Vector(xp - xs1, yp - ys1)\n",
    "    return pos"
   ]
  },
  {
   "cell_type": "code",
   "execution_count": 8,
   "metadata": {},
   "outputs": [],
   "source": [
    "def relative_position2(state):\n",
    "    \"\"\"Calculates the position vector of the planet relative to sun 2. \n",
    "    \n",
    "    state: The current state of all three bodies, with position and velocity values\n",
    "    \n",
    "    return: Position vector\n",
    "    \"\"\"\n",
    "    xp, yp, vxp, vyp, xs1, ys1, vxs1, vys1, xs2, ys2, vxs2, vys2 = state\n",
    "    pos = Vector(xp - xs2, yp - ys2)\n",
    "    return pos"
   ]
  },
  {
   "cell_type": "code",
   "execution_count": 9,
   "metadata": {},
   "outputs": [],
   "source": [
    "def relative_position_s1(state):\n",
    "    \"\"\"Calculates the position vector of sun 1 relative to sun 2. \n",
    "    \n",
    "    state: The current state of all three bodies, with position and velocity values\n",
    "    \n",
    "    return: Position vector\n",
    "    \"\"\"\n",
    "    xp, yp, vxp, vyp, xs1, ys1, vxs1, vys1, xs2, ys2, vxs2, vys2 = state\n",
    "    pos = Vector(xs1 - xs2, ys1 - ys2)\n",
    "    return pos"
   ]
  },
  {
   "cell_type": "code",
   "execution_count": 10,
   "metadata": {},
   "outputs": [],
   "source": [
    "def relative_position_s2(state):\n",
    "    \"\"\"Calculates the position vector of sun 2 relative to sun 1. \n",
    "    \n",
    "    state: The current state of all three bodies, with position and velocity values\n",
    "    \n",
    "    return: Position vector\n",
    "    \"\"\"\n",
    "    xp, yp, vxp, vyp, xs1, ys1, vxs1, vys1, xs2, ys2, vxs2, vys2 = state\n",
    "    pos = Vector(xs2 - xs1, ys2 - ys1)\n",
    "    return pos"
   ]
  },
  {
   "cell_type": "markdown",
   "metadata": {},
   "source": [
    "Now, we create the gravity functions for our system, that implement the many forces of gravity that belong in our model. We calculated the gravitational force of each sun on the planet individually, and then combined them to be the total force of gravity on the planet. We also calculated the force of gravity between the two suns individually. "
   ]
  },
  {
   "cell_type": "code",
   "execution_count": 11,
   "metadata": {},
   "outputs": [],
   "source": [
    "def grav1(state, t, system):\n",
    "    \"\"\"Calculates the gravitational force vector of sun 1 on the planet. \n",
    "    \n",
    "    state: The current state of all three bodies, with position and velocity values\n",
    "    t: The current time step in the simulation\n",
    "    system: Object containing all of the model parameters\n",
    "    \n",
    "    return: Force vector\n",
    "    \"\"\"\n",
    "    xp, yp, vxp, vyp, xs1, ys1, vxs1, vys1, xs2, ys2, vxs2, vys2 = state\n",
    "    unpack(system)\n",
    "    pos = relative_position1(state)\n",
    "    force_mag = -G * mass_s1 * mass_p / (pos.mag ** 2)\n",
    "    force_dir = pos.hat()\n",
    "    force = force_dir * force_mag\n",
    "    return force"
   ]
  },
  {
   "cell_type": "code",
   "execution_count": 12,
   "metadata": {},
   "outputs": [],
   "source": [
    "def grav2(state, t, system):\n",
    "    \"\"\"Calculates the gravitational force vector of sun 2 on the planet. \n",
    "    \n",
    "    state: The current state of all three bodies, with position and velocity values\n",
    "    t: The current time step in the simulation\n",
    "    system: Object containing all of the model parameters\n",
    "    \n",
    "    return: Force vector\n",
    "    \"\"\"\n",
    "    xp, yp, vxp, vyp, xs1, ys1, vxs1, vys1, xs2, ys2, vxs2, vys2 = state\n",
    "    unpack(system)\n",
    "    pos = relative_position2(state)\n",
    "    force_mag = -G * mass_s2 * mass_p / (pos.mag ** 2)\n",
    "    force_dir = pos.hat()\n",
    "    force = force_dir * force_mag\n",
    "    return force"
   ]
  },
  {
   "cell_type": "code",
   "execution_count": 13,
   "metadata": {},
   "outputs": [],
   "source": [
    "def grav_s1(state, t, system):\n",
    "    \"\"\"Calculates the gravitational force vector of sun 2 on sun 1. \n",
    "    \n",
    "    state: The current state of all three bodies, with position and velocity values\n",
    "    t: The current time step in the simulation\n",
    "    system: Object containing all of the model parameters\n",
    "    \n",
    "    return: Force vector\n",
    "    \"\"\"\n",
    "    xp, yp, vxp, vyp, xs1, ys1, vxs1, vys1, xs2, ys2, vxs2, vys2 = state\n",
    "    unpack(system)\n",
    "    pos = relative_position_s1(state)\n",
    "    force_mag = -G * mass_s1 * mass_s2 / (pos.mag ** 2)\n",
    "    force_dir = pos.hat()\n",
    "    force = force_dir * force_mag\n",
    "    return force"
   ]
  },
  {
   "cell_type": "code",
   "execution_count": 14,
   "metadata": {},
   "outputs": [],
   "source": [
    "def grav_s2(state, t, system):\n",
    "    \"\"\"Calculates the gravitational force vector of sun 1 on sun 2. \n",
    "    \n",
    "    state: The current state of all three bodies, with position and velocity values\n",
    "    t: The current time step in the simulation\n",
    "    system: Object containing all of the model parameters\n",
    "    \n",
    "    return: Force vector\n",
    "    \"\"\"\n",
    "    xp, yp, vxp, vyp, xs1, ys1, vxs1, vys1, xs2, ys2, vxs2, vys2 = state\n",
    "    unpack(system)\n",
    "    pos = relative_position_s2(state)\n",
    "    force_mag = -G * mass_s1 * mass_s2 / (pos.mag ** 2)\n",
    "    force_dir = pos.hat()\n",
    "    force = force_dir * force_mag\n",
    "    return force"
   ]
  },
  {
   "cell_type": "code",
   "execution_count": 15,
   "metadata": {},
   "outputs": [],
   "source": [
    "def gravp(state, t, system):\n",
    "    \"\"\"Calculates the total gravitational force of boths suns on the planet. \n",
    "    \n",
    "    state: The current state of all three bodies, with position and velocity values\n",
    "    t: The current time step in the simulation\n",
    "    system: Object containing all of the model parameters\n",
    "    \n",
    "    return: Force vector\n",
    "    \"\"\"\n",
    "    return grav1(state, t, system) + grav2(state, t, system)"
   ]
  },
  {
   "cell_type": "markdown",
   "metadata": {},
   "source": [
    "Now, we create a slope function and put in all our differential equations."
   ]
  },
  {
   "cell_type": "code",
   "execution_count": 16,
   "metadata": {},
   "outputs": [],
   "source": [
    "def slope_func(state, t, system):\n",
    "    \"\"\"Implementation of our system of differential equations \n",
    "    \n",
    "    state: The current state of all three bodies, with position and velocity values\n",
    "    t: The current time step in the simulation\n",
    "    system: Object containing all of the model parameters\n",
    "    \n",
    "    return: The change in all state variables in one time step (12 floating point numbers)\n",
    "    \"\"\"\n",
    "    xp, yp, vxp, vyp, xs1, ys1, vxs1, vys1, xs2, ys2, vxs2, vys2 = state\n",
    "    unpack(system)  \n",
    "    \n",
    "    xhat = Vector(1, 0)\n",
    "    yhat = Vector(0, 1)\n",
    "    \n",
    "    r1= relative_position1(state)\n",
    "    r2= relative_position2(state)\n",
    "    forcep = gravp(state, t, system)\n",
    "    force_s1 = grav_s1(state, t, system)\n",
    "    force_s2 = grav_s2(state, t, system)\n",
    "    \n",
    "    dxpdt = vxp\n",
    "    dypdt = vyp\n",
    "    ds1xdt = vxs1\n",
    "    ds1ydt = vys1\n",
    "    ds2xdt = vxs2\n",
    "    ds2ydt = vys2\n",
    "    \n",
    "    dvxpdt = forcep.dot(xhat) / mass_p\n",
    "    dvypdt = forcep.dot(yhat) / mass_p\n",
    "    dvxs1dt = force_s1.dot(xhat) / mass_s1\n",
    "    dvys1dt = force_s1.dot(yhat) / mass_s1\n",
    "    dvxs2dt = force_s2.dot(xhat) / mass_s2\n",
    "    dvys2dt = force_s2.dot(yhat) / mass_s2\n",
    "    \n",
    "    \n",
    "    return dxpdt, dypdt, dvxpdt, dvypdt, ds1xdt, ds1ydt, dvxs1dt, dvys1dt, ds2xdt, ds2ydt, dvxs2dt, dvys2dt "
   ]
  },
  {
   "cell_type": "markdown",
   "metadata": {},
   "source": [
    "Next, we created four event functions that end the simulation in the case of a termination event . Our first two event functions were created to account for if the planet ever fell into one of the two stars. Each of those two event functions were created for one of the two stars. The third and fourth event functions were created for the possibility of the planet escaping the orbit of one of the stars, because without these event functions our model would not account for the possibility of a planet being slung out of the orbit and into the depths of space. "
   ]
  },
  {
   "cell_type": "code",
   "execution_count": 17,
   "metadata": {},
   "outputs": [],
   "source": [
    "def event_func1(state, t, system):\n",
    "    \"\"\"Event function for planet nearing sun 1\n",
    "    \n",
    "    state: The current state of all three bodies, with position and velocity values\n",
    "    t: The current time step in the simulation\n",
    "    system: Object containing all of the model parameters\n",
    "    \n",
    "    return: The difference between our planets position relative to sun 1 and our collision threshold\n",
    "    \"\"\"\n",
    "    xp, yp, vxp, vyp, xs1, ys1, vxs1, vys1, xs2, ys2, vxs2, vys2 = state\n",
    "    unpack(system)  \n",
    "    \n",
    "    pos = relative_position1(state)\n",
    "    return pos.mag - r_final"
   ]
  },
  {
   "cell_type": "code",
   "execution_count": 18,
   "metadata": {},
   "outputs": [],
   "source": [
    "def event_func2(state, t, system):\n",
    "    \"\"\"Event function for planet nearing sun 2\n",
    "    \n",
    "    state: The current state of all three bodies, with position and velocity values\n",
    "    t: The current time step in the simulation\n",
    "    system: Object containing all of the model parameters\n",
    "    \n",
    "    return: The difference between our planets position relative to sun 2 and our collision threshold\n",
    "    \"\"\"\n",
    "    xp, yp, vxp, vyp, xs1, ys1, vxs1, vys1, xs2, ys2, vxs2, vys2 = state\n",
    "    unpack(system)  \n",
    "    \n",
    "    pos = relative_position2(state)\n",
    "    return pos.mag - r_final"
   ]
  },
  {
   "cell_type": "code",
   "execution_count": 19,
   "metadata": {},
   "outputs": [],
   "source": [
    "def event_func3(state, t, system):\n",
    "    \"\"\"Event function for the planet permanently escapting the orbit of sun 1\n",
    "    \n",
    "    state: The current state of all three bodies, with position and velocity values\n",
    "    t: The current time step in the simulation\n",
    "    system: Object containing all of the model parameters\n",
    "    \n",
    "    return: The difference between our planets position relative to sun 1 and our escape threshold\n",
    "    \"\"\"\n",
    "    xp, yp, vxp, vyp, xs1, ys1, vxs1, vys1, xs2, ys2, vxs2, vys2 = state\n",
    "    unpack(system)  \n",
    "    \n",
    "    pos = relative_position1(state)\n",
    "    return r_escape - pos.mag"
   ]
  },
  {
   "cell_type": "code",
   "execution_count": 20,
   "metadata": {},
   "outputs": [],
   "source": [
    "def event_func4(state, t, system):\n",
    "    \"\"\"Event function for the planet permanently escapting the orbit of sun 2\n",
    "    \n",
    "    state: The current state of all three bodies, with position and velocity values\n",
    "    t: The current time step in the simulation\n",
    "    system: Object containing all of the model parameters\n",
    "    \n",
    "    return: The difference between our planets position relative to sun 2 and our escape threshold\n",
    "    \"\"\"\n",
    "    xp, yp, vxp, vyp, xs1, ys1, vxs1, vys1, xs2, ys2, vxs2, vys2 = state\n",
    "    unpack(system)  \n",
    "    \n",
    "    pos = relative_position2(state)\n",
    "    return r_escape - pos.mag"
   ]
  },
  {
   "cell_type": "code",
   "execution_count": 21,
   "metadata": {},
   "outputs": [
    {
     "data": {
      "text/html": [
       "<div>\n",
       "<style scoped>\n",
       "    .dataframe tbody tr th:only-of-type {\n",
       "        vertical-align: middle;\n",
       "    }\n",
       "\n",
       "    .dataframe tbody tr th {\n",
       "        vertical-align: top;\n",
       "    }\n",
       "\n",
       "    .dataframe thead th {\n",
       "        text-align: right;\n",
       "    }\n",
       "</style>\n",
       "<table border=\"1\" class=\"dataframe\">\n",
       "  <thead>\n",
       "    <tr style=\"text-align: right;\">\n",
       "      <th></th>\n",
       "      <th>values</th>\n",
       "    </tr>\n",
       "  </thead>\n",
       "  <tbody>\n",
       "    <tr>\n",
       "      <th>sol</th>\n",
       "      <td>None</td>\n",
       "    </tr>\n",
       "    <tr>\n",
       "      <th>t_events</th>\n",
       "      <td>[[], [], [], [129405923.74402884]]</td>\n",
       "    </tr>\n",
       "    <tr>\n",
       "      <th>nfev</th>\n",
       "      <td>374</td>\n",
       "    </tr>\n",
       "    <tr>\n",
       "      <th>njev</th>\n",
       "      <td>0</td>\n",
       "    </tr>\n",
       "    <tr>\n",
       "      <th>nlu</th>\n",
       "      <td>0</td>\n",
       "    </tr>\n",
       "    <tr>\n",
       "      <th>status</th>\n",
       "      <td>1</td>\n",
       "    </tr>\n",
       "    <tr>\n",
       "      <th>message</th>\n",
       "      <td>A termination event occurred.</td>\n",
       "    </tr>\n",
       "    <tr>\n",
       "      <th>success</th>\n",
       "      <td>True</td>\n",
       "    </tr>\n",
       "  </tbody>\n",
       "</table>\n",
       "</div>"
      ],
      "text/plain": [
       "sol                                       None\n",
       "t_events    [[], [], [], [129405923.74402884]]\n",
       "nfev                                       374\n",
       "njev                                         0\n",
       "nlu                                          0\n",
       "status                                       1\n",
       "message          A termination event occurred.\n",
       "success                                   True\n",
       "dtype: object"
      ]
     },
     "execution_count": 21,
     "metadata": {},
     "output_type": "execute_result"
    }
   ],
   "source": [
    "#prints what happened in the simulation\n",
    "results, details = run_ode_solver(system, slope_func, events=(event_func1, event_func2, event_func3, event_func4))\n",
    "details"
   ]
  },
  {
   "cell_type": "code",
   "execution_count": 22,
   "metadata": {},
   "outputs": [
    {
     "data": {
      "text/plain": [
       "0"
      ]
     },
     "execution_count": 22,
     "metadata": {},
     "output_type": "execute_result"
    }
   ],
   "source": [
    "details.t_events[0].size"
   ]
  },
  {
   "cell_type": "code",
   "execution_count": 23,
   "metadata": {},
   "outputs": [],
   "source": [
    "#converting units\n",
    "results.index /= 60 * 60 * 24\n",
    "results.xp /= 1e9\n",
    "results.yp /= 1e9\n",
    "results.xs1 /= 1e9\n",
    "results.ys1 /= 1e9\n",
    "results.xs2 /= 1e9\n",
    "results.ys2 /= 1e9"
   ]
  },
  {
   "cell_type": "code",
   "execution_count": 24,
   "metadata": {},
   "outputs": [
    {
     "data": {
      "image/png": "[encoded data removed]",
      "text/plain": [
       "<Figure size 432x288 with 1 Axes>"
      ]
     },
     "metadata": {
      "needs_background": "light"
     },
     "output_type": "display_data"
    }
   ],
   "source": [
    "#plotting the orbit\n",
    "plot(results.xp, results.yp, label='Planet')\n",
    "plot(results.xs1, results.ys1, label='Sun 1')\n",
    "plot(results.xs2, results.ys2, label='Sun 2')\n",
    "\n",
    "decorate(xlabel='X position (million kilometers)',\n",
    "         ylabel='Y position (million kilometers)')"
   ]
  },
  {
   "cell_type": "markdown",
   "metadata": {},
   "source": [
    "Now we created our time function so that we can eventually use the same time stopped at by the event function to sweep our variables. When plugged in to all of our sweeps, we can see the most effective parameter changes for that amount of time. "
   ]
  },
  {
   "cell_type": "code",
   "execution_count": 25,
   "metadata": {},
   "outputs": [],
   "source": [
    "def time_func(parameters):\n",
    "    \"\"\"Extracts time of event function from details of one simulation\n",
    "    \n",
    "    parameters: Params object passed to the system, setting model parameters\n",
    "    \n",
    "    return: Time of the event function\n",
    "    \"\"\"\n",
    "    system = make_system(parameters)\n",
    "    results, deets = run_ode_solver(system, slope_func, events=(event_func1, event_func2, event_func3, event_func4))\n",
    "    t = system.t_end\n",
    "    for time in deets.t_events:\n",
    "        if time.size == 1:\n",
    "            t = time[0]\n",
    "    return t"
   ]
  },
  {
   "cell_type": "markdown",
   "metadata": {},
   "source": [
    "Our first sweep is to determine the best angle for the stability of our figure eight orbit. When we run our sweep_angle, it gives us the amount of time the orbit lasted for, which by itself doesn't guarantee that the planet went in a figure 8 orbit, it just suggests that it was reasonably stable. In order to clarify that the planet did take a figure eight path, we have to plug the optimal angles back into our initial conditions and then look at the plot that is eventually created with that information. "
   ]
  },
  {
   "cell_type": "code",
   "execution_count": 26,
   "metadata": {},
   "outputs": [],
   "source": [
    "def sweep_angle(angles):\n",
    "    \"\"\"Sweeps through a range of initial angles for the planets trajectory, \n",
    "       running one simulation for each angle\n",
    "    \n",
    "    angles: Range of angles to be swept through\n",
    "    \n",
    "    return: Sweep Series, where the values are the times that the orbit 'collapsed'\n",
    "    \"\"\"\n",
    "    sweep = SweepSeries()\n",
    "\n",
    "    for angle in angles:\n",
    "        parameters = Params(p, init_angle = angle)\n",
    "        time = time_func(parameters)\n",
    "        sweep[angle] = time\n",
    "        \n",
    "    return sweep"
   ]
  },
  {
   "cell_type": "markdown",
   "metadata": {},
   "source": [
    "# Results"
   ]
  },
  {
   "cell_type": "code",
   "execution_count": null,
   "metadata": {},
   "outputs": [
    {
     "name": "stdout",
     "output_type": "stream",
     "text": [
      "init_speed    30300.0 meter / second\n",
      "init_angle                   2.35619\n",
      "dist_s          150000000000.0 meter\n",
      "mass_s2               1e+30 kilogram\n",
      "dtype: object\n"
     ]
    }
   ],
   "source": [
    "print(p)\n",
    "angles = linspace(pi/2, pi, 21)\n",
    "sweep = sweep_angle(angles)\n",
    "plot(sweep)\n",
    "\n",
    "decorate(xlabel='Initial angle (radians))',\n",
    "         ylabel='Time until orbit collapsed (days)')"
   ]
  },
  {
   "cell_type": "markdown",
   "metadata": {},
   "source": [
    "This graph shows a largely unpredictable orbit stability as the initial angle of the planet changes, with the most stable orbits occuring near pi/2 radians and at 2.28 radians."
   ]
  },
  {
   "cell_type": "code",
   "execution_count": null,
   "metadata": {},
   "outputs": [],
   "source": [
    "sweep"
   ]
  },
  {
   "cell_type": "markdown",
   "metadata": {},
   "source": [
    "Our next sweep, speed_speed, went through the possibilites of speeds and how stable of an orbit they would make. This also outputs a graph that lets us know which of the simulations made it all the way through the set time without reaching a termination event, and therefore gives us good data points to try to plug back into the initial system.  "
   ]
  },
  {
   "cell_type": "code",
   "execution_count": null,
   "metadata": {},
   "outputs": [],
   "source": [
    "def sweep_speed(speeds):\n",
    "    \"\"\"Sweeps through a range of initial planetary speeds, \n",
    "       running one simulation for each speed\n",
    "    \n",
    "    speeds: Range of speeds to be swept through\n",
    "    \n",
    "    return: Sweep Series, where the values are the times that the orbit 'collapsed'\n",
    "    \"\"\"\n",
    "    sweep = SweepSeries()\n",
    "\n",
    "    for speed in speeds:\n",
    "        parameters = Params(p, init_speed = speed)\n",
    "        time = time_func(parameters)\n",
    "        sweep[speed] = time\n",
    "        \n",
    "    return sweep"
   ]
  },
  {
   "cell_type": "code",
   "execution_count": null,
   "metadata": {},
   "outputs": [],
   "source": [
    "print(p)\n",
    "speeds = linspace(10000, 50000, 21)\n",
    "sweep = sweep_speed(speeds)\n",
    "plot(sweep)\n",
    "\n",
    "decorate(xlabel='Initial speed (meters/second))',\n",
    "         ylabel='Time until orbit collapsed (days)')"
   ]
  },
  {
   "cell_type": "markdown",
   "metadata": {},
   "source": [
    "Like in the sweep of initial angles, this graph shows that orbit stability varies unpredictably with initial speed."
   ]
  },
  {
   "cell_type": "code",
   "execution_count": null,
   "metadata": {},
   "outputs": [],
   "source": [
    "sweep"
   ]
  },
  {
   "cell_type": "markdown",
   "metadata": {},
   "source": [
    "\n",
    "\n"
   ]
  },
  {
   "cell_type": "markdown",
   "metadata": {},
   "source": [
    "Assumptions: Our model made a variety of assumptions. We assumed that our system would have no other small bodies or items contributing gravitational force. We assumed that the planet would create no gravitational pull for the two stars. We also assumed that the planet we are introducing could be inserted equidistant from both suns at the point of introduction. For the most part, these assumptions don't take away from the relevance of the model."
   ]
  },
  {
   "cell_type": "markdown",
   "metadata": {},
   "source": [
    "Relevance: The importance of this model isn't difficult to pick out. The existence of figure 8 orbits rely on their feasability and stability, and knowing the conditions under which they exist can make it that much easier to pick out a system that exists in real life. "
   ]
  },
  {
   "cell_type": "markdown",
   "metadata": {},
   "source": [
    "# Interpretation\n",
    "We found that, in our model, it is very possible for a figure eight orbit to exist around to revolving stars in a binary star system. This could be losely applied to astronomy, taking into account the limitations our model had. We also found that the speed and angle of introduction of the planet have an almost equally important effect on the stability of the orbit. Although it is difficult to quantify their influential nature, it is reasonable to say that the most important parameter when it comes to creating a stable figure 8 orbit is the angle of its introduction, because there were some angles that, no matter what the speed, could not create a stable orbit. "
   ]
  },
  {
   "cell_type": "markdown",
   "metadata": {},
   "source": [
    "### Other interesting information"
   ]
  },
  {
   "cell_type": "markdown",
   "metadata": {},
   "source": [
    "![A successful figure 8](firstfigure8.png \"A successful figure 8\")"
   ]
  },
  {
   "cell_type": "markdown",
   "metadata": {},
   "source": [
    "This was one graph in which we accieved a successful figure 8."
   ]
  },
  {
   "cell_type": "code",
   "execution_count": null,
   "metadata": {},
   "outputs": [],
   "source": []
  }
 ],
 "metadata": {
  "kernelspec": {
   "display_name": "Python 3",
   "language": "python",
   "name": "python3"
  },
  "language_info": {
   "codemirror_mode": {
    "name": "ipython",
    "version": 3
   },
   "file_extension": ".py",
   "mimetype": "text/x-python",
   "name": "python",
   "nbconvert_exporter": "python",
   "pygments_lexer": "ipython3",
   "version": "3.6.6"
  }
 },
 "nbformat": 4,
 "nbformat_minor": 2
}
