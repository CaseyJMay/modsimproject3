{
 "cells": [
  {
   "cell_type": "markdown",
   "metadata": {},
   "source": [
    "# Project 3 Draft 2\n",
    "\n",
    "Casey May and Alex Wenstrup"
   ]
  },
  {
   "cell_type": "code",
   "execution_count": 2,
   "metadata": {},
   "outputs": [],
   "source": [
    "#Configure notebook and import libaries\n",
    "from modsim import *\n",
    "%matplotlib inline"
   ]
  },
  {
   "cell_type": "code",
   "execution_count": 201,
   "metadata": {},
   "outputs": [],
   "source": [
    "#Define Units\n",
    "s = UNITS.second\n",
    "m = UNITS.meter\n",
    "kg = UNITS.kilogram\n",
    "N = UNITS.newton"
   ]
  },
  {
   "cell_type": "code",
   "execution_count": 202,
   "metadata": {},
   "outputs": [],
   "source": [
    "p = Params(init_speed = 34000 * m/s, \n",
    "                init_angle = 2.1205, \n",
    "                dist_s = 150e9 * m, \n",
    "                mass_s2 = 1e30 * kg)"
   ]
  },
  {
   "cell_type": "code",
   "execution_count": 203,
   "metadata": {},
   "outputs": [],
   "source": [
    "def make_system(params):\n",
    "    \n",
    "    unpack(params)\n",
    "    \n",
    "    vx,vy = pol2cart(init_angle, init_speed)\n",
    "   \n",
    "    init = State(xp = 0 * m, yp = 0 * m,\n",
    "                vxp = vx * m/s, vyp = vy * m/s,\n",
    "                xs1 = -dist_s, ys1 = 0 * m,\n",
    "                vxs1 = 0 * m/s, vys1 = -10543.6 * m/s,\n",
    "                xs2 = dist_s, ys2 = 0 * m,\n",
    "                vxs2 = 0 * m/s, vys2 = 10543.6 * m/s)\n",
    "    return System(params, \n",
    "                  init=init,\n",
    "                  mass_s1 = 1e30 * kg,\n",
    "                  mass_p = 1e24 * kg,\n",
    "                  G = 6.67e-11 * N * m ** 2 / kg ** 2,\n",
    "                  r_final = 5e9 * m,\n",
    "                  t_end = 60 * 60 * 24 * 3000 * s)"
   ]
  },
  {
   "cell_type": "code",
   "execution_count": 204,
   "metadata": {},
   "outputs": [
    {
     "data": {
      "text/html": [
       "<div>\n",
       "<style scoped>\n",
       "    .dataframe tbody tr th:only-of-type {\n",
       "        vertical-align: middle;\n",
       "    }\n",
       "\n",
       "    .dataframe tbody tr th {\n",
       "        vertical-align: top;\n",
       "    }\n",
       "\n",
       "    .dataframe thead th {\n",
       "        text-align: right;\n",
       "    }\n",
       "</style>\n",
       "<table border=\"1\" class=\"dataframe\">\n",
       "  <thead>\n",
       "    <tr style=\"text-align: right;\">\n",
       "      <th></th>\n",
       "      <th>values</th>\n",
       "    </tr>\n",
       "  </thead>\n",
       "  <tbody>\n",
       "    <tr>\n",
       "      <th>init_speed</th>\n",
       "      <td>34000.0 meter / second</td>\n",
       "    </tr>\n",
       "    <tr>\n",
       "      <th>init_angle</th>\n",
       "      <td>2.1205</td>\n",
       "    </tr>\n",
       "    <tr>\n",
       "      <th>dist_s</th>\n",
       "      <td>150000000000.0 meter</td>\n",
       "    </tr>\n",
       "    <tr>\n",
       "      <th>mass_s2</th>\n",
       "      <td>1e+30 kilogram</td>\n",
       "    </tr>\n",
       "    <tr>\n",
       "      <th>init</th>\n",
       "      <td>xp                                           0...</td>\n",
       "    </tr>\n",
       "    <tr>\n",
       "      <th>mass_s1</th>\n",
       "      <td>1e+30 kilogram</td>\n",
       "    </tr>\n",
       "    <tr>\n",
       "      <th>mass_p</th>\n",
       "      <td>1e+24 kilogram</td>\n",
       "    </tr>\n",
       "    <tr>\n",
       "      <th>G</th>\n",
       "      <td>6.67e-11 meter ** 2 * newton / kilogram ** 2</td>\n",
       "    </tr>\n",
       "    <tr>\n",
       "      <th>r_final</th>\n",
       "      <td>5000000000.0 meter</td>\n",
       "    </tr>\n",
       "    <tr>\n",
       "      <th>t_end</th>\n",
       "      <td>259200000 second</td>\n",
       "    </tr>\n",
       "  </tbody>\n",
       "</table>\n",
       "</div>"
      ],
      "text/plain": [
       "init_speed                               34000.0 meter / second\n",
       "init_angle                                               2.1205\n",
       "dist_s                                     150000000000.0 meter\n",
       "mass_s2                                          1e+30 kilogram\n",
       "init          xp                                           0...\n",
       "mass_s1                                          1e+30 kilogram\n",
       "mass_p                                           1e+24 kilogram\n",
       "G                  6.67e-11 meter ** 2 * newton / kilogram ** 2\n",
       "r_final                                      5000000000.0 meter\n",
       "t_end                                          259200000 second\n",
       "dtype: object"
      ]
     },
     "execution_count": 204,
     "metadata": {},
     "output_type": "execute_result"
    }
   ],
   "source": [
    "system = make_system(p)\n",
    "system"
   ]
  },
  {
   "cell_type": "code",
   "execution_count": 205,
   "metadata": {},
   "outputs": [],
   "source": [
    "def relative_position1(state):\n",
    "    xp, yp, vxp, vyp, xs1, ys1, vxs1, vys1, xs2, ys2, vxs2, vys2 = state\n",
    "    pos = Vector(xp - xs1, yp - ys1)\n",
    "    return pos"
   ]
  },
  {
   "cell_type": "code",
   "execution_count": 206,
   "metadata": {},
   "outputs": [],
   "source": [
    "def relative_position2(state):\n",
    "    xp, yp, vxp, vyp, xs1, ys1, vxs1, vys1, xs2, ys2, vxs2, vys2 = state\n",
    "    pos = Vector(xp - xs2, yp - ys2)\n",
    "    return pos"
   ]
  },
  {
   "cell_type": "code",
   "execution_count": 207,
   "metadata": {},
   "outputs": [],
   "source": [
    "def relative_position_s1(state):\n",
    "    xp, yp, vxp, vyp, xs1, ys1, vxs1, vys1, xs2, ys2, vxs2, vys2 = state\n",
    "    pos = Vector(xs1 - xs2, ys1 - ys2)\n",
    "    return pos"
   ]
  },
  {
   "cell_type": "code",
   "execution_count": 208,
   "metadata": {},
   "outputs": [],
   "source": [
    "def relative_position_s2(state):\n",
    "    xp, yp, vxp, vyp, xs1, ys1, vxs1, vys1, xs2, ys2, vxs2, vys2 = state\n",
    "    pos = Vector(xs2 - xs1, ys2 - ys1)\n",
    "    return pos"
   ]
  },
  {
   "cell_type": "code",
   "execution_count": 209,
   "metadata": {},
   "outputs": [],
   "source": [
    "def grav1(state, t, system):\n",
    "    xp, yp, vxp, vyp, xs1, ys1, vxs1, vys1, xs2, ys2, vxs2, vys2 = state\n",
    "    unpack(system)\n",
    "    pos = relative_position1(state)\n",
    "    #vel = Vector(vxp, vyp)\n",
    "    force_mag = -G * mass_s1 * mass_p / (pos.mag ** 2)\n",
    "    force_dir = pos.hat()\n",
    "    force = force_dir * force_mag\n",
    "    return force"
   ]
  },
  {
   "cell_type": "code",
   "execution_count": 210,
   "metadata": {},
   "outputs": [],
   "source": [
    "def grav2(state, t, system):\n",
    "    xp, yp, vxp, vyp, xs1, ys1, vxs1, vys1, xs2, ys2, vxs2, vys2 = state\n",
    "    unpack(system)\n",
    "    pos = relative_position2(state)\n",
    "    #vel = Vector(vxp, vyp)\n",
    "    force_mag = -G * mass_s2 * mass_p / (pos.mag ** 2)\n",
    "    force_dir = pos.hat()\n",
    "    force = force_dir * force_mag\n",
    "    return force"
   ]
  },
  {
   "cell_type": "code",
   "execution_count": 211,
   "metadata": {},
   "outputs": [],
   "source": [
    "def grav_s1(state, t, system):\n",
    "    xp, yp, vxp, vyp, xs1, ys1, vxs1, vys1, xs2, ys2, vxs2, vys2 = state\n",
    "    unpack(system)\n",
    "    pos = relative_position_s1(state)\n",
    "    #vel = Vector(vxp, vyp)\n",
    "    force_mag = -G * mass_s1 * mass_s2 / (pos.mag ** 2)\n",
    "    force_dir = pos.hat()\n",
    "    force = force_dir * force_mag\n",
    "    return force"
   ]
  },
  {
   "cell_type": "code",
   "execution_count": 212,
   "metadata": {},
   "outputs": [],
   "source": [
    "def grav_s2(state, t, system):\n",
    "    xp, yp, vxp, vyp, xs1, ys1, vxs1, vys1, xs2, ys2, vxs2, vys2 = state\n",
    "    unpack(system)\n",
    "    pos = relative_position_s2(state)\n",
    "    #vel = Vector(vxp, vyp)\n",
    "    force_mag = -G * mass_s1 * mass_s2 / (pos.mag ** 2)\n",
    "    force_dir = pos.hat()\n",
    "    force = force_dir * force_mag\n",
    "    return force"
   ]
  },
  {
   "cell_type": "code",
   "execution_count": 213,
   "metadata": {},
   "outputs": [],
   "source": [
    "def gravp(state, t, system):\n",
    "    return grav1(state, t, system) + grav2(state, t, system)"
   ]
  },
  {
   "cell_type": "code",
   "execution_count": 214,
   "metadata": {},
   "outputs": [],
   "source": [
    "def slope_func(state, t, system):\n",
    "    xp, yp, vxp, vyp, xs1, ys1, vxs1, vys1, xs2, ys2, vxs2, vys2 = state\n",
    "    unpack(system)  \n",
    "    \n",
    "    xhat = Vector(1, 0)\n",
    "    yhat = Vector(0, 1)\n",
    "    \n",
    "    r1= relative_position1(state)\n",
    "    r2= relative_position2(state)\n",
    "    forcep = gravp(state, t, system)\n",
    "    force_s1 = grav_s1(state, t, system)\n",
    "    force_s2 = grav_s2(state, t, system)\n",
    "    \n",
    "    dxpdt = vxp\n",
    "    dypdt = vyp\n",
    "    ds1xdt = vxs1\n",
    "    ds1ydt = vys1\n",
    "    ds2xdt = vxs2\n",
    "    ds2ydt = vys2\n",
    "    \n",
    "    dvxpdt = forcep.dot(xhat) / mass_p\n",
    "    dvypdt = forcep.dot(yhat) / mass_p\n",
    "    dvxs1dt = force_s1.dot(xhat) / mass_s1\n",
    "    dvys1dt = force_s1.dot(yhat) / mass_s1\n",
    "    dvxs2dt = force_s2.dot(xhat) / mass_s2\n",
    "    dvys2dt = force_s2.dot(yhat) / mass_s2\n",
    "    \n",
    "    \n",
    "    return dxpdt, dypdt, dvxpdt, dvypdt, ds1xdt, ds1ydt, dvxs1dt, dvys1dt, ds2xdt, ds2ydt, dvxs2dt, dvys2dt "
   ]
  },
  {
   "cell_type": "code",
   "execution_count": 215,
   "metadata": {},
   "outputs": [],
   "source": [
    "def event_func1(state, t, system):\n",
    "    xp, yp, vxp, vyp, xs1, ys1, vxs1, vys1, xs2, ys2, vxs2, vys2 = state\n",
    "    unpack(system)  \n",
    "    \n",
    "    pos = relative_position1(state)\n",
    "    return pos.mag - r_final"
   ]
  },
  {
   "cell_type": "code",
   "execution_count": 216,
   "metadata": {},
   "outputs": [],
   "source": [
    "def event_func2(state, t, system):\n",
    "    xp, yp, vxp, vyp, xs1, ys1, vxs1, vys1, xs2, ys2, vxs2, vys2 = state\n",
    "    unpack(system)  \n",
    "    \n",
    "    pos = relative_position2(state)\n",
    "    return pos.mag - r_final"
   ]
  },
  {
   "cell_type": "code",
   "execution_count": 217,
   "metadata": {},
   "outputs": [],
   "source": [
    "def event_func3(state, t, system):\n",
    "    xp, yp, vxp, vyp, xs1, ys1, vxs1, vys1, xs2, ys2, vxs2, vys2 = state\n",
    "    unpack(system)  \n",
    "    \n",
    "    pos = relative_position1(state)\n",
    "    return 750e9 - pos.mag"
   ]
  },
  {
   "cell_type": "code",
   "execution_count": 218,
   "metadata": {},
   "outputs": [],
   "source": [
    "def event_func4(state, t, system):\n",
    "    xp, yp, vxp, vyp, xs1, ys1, vxs1, vys1, xs2, ys2, vxs2, vys2 = state\n",
    "    unpack(system)  \n",
    "    \n",
    "    pos = relative_position2(state)\n",
    "    return 750e9 - pos.mag"
   ]
  },
  {
   "cell_type": "code",
   "execution_count": 219,
   "metadata": {},
   "outputs": [
    {
     "data": {
      "text/html": [
       "<div>\n",
       "<style scoped>\n",
       "    .dataframe tbody tr th:only-of-type {\n",
       "        vertical-align: middle;\n",
       "    }\n",
       "\n",
       "    .dataframe tbody tr th {\n",
       "        vertical-align: top;\n",
       "    }\n",
       "\n",
       "    .dataframe thead th {\n",
       "        text-align: right;\n",
       "    }\n",
       "</style>\n",
       "<table border=\"1\" class=\"dataframe\">\n",
       "  <thead>\n",
       "    <tr style=\"text-align: right;\">\n",
       "      <th></th>\n",
       "      <th>values</th>\n",
       "    </tr>\n",
       "  </thead>\n",
       "  <tbody>\n",
       "    <tr>\n",
       "      <th>sol</th>\n",
       "      <td>None</td>\n",
       "    </tr>\n",
       "    <tr>\n",
       "      <th>t_events</th>\n",
       "      <td>[[], [], [], []]</td>\n",
       "    </tr>\n",
       "    <tr>\n",
       "      <th>nfev</th>\n",
       "      <td>530</td>\n",
       "    </tr>\n",
       "    <tr>\n",
       "      <th>njev</th>\n",
       "      <td>0</td>\n",
       "    </tr>\n",
       "    <tr>\n",
       "      <th>nlu</th>\n",
       "      <td>0</td>\n",
       "    </tr>\n",
       "    <tr>\n",
       "      <th>status</th>\n",
       "      <td>0</td>\n",
       "    </tr>\n",
       "    <tr>\n",
       "      <th>message</th>\n",
       "      <td>The solver successfully reached the end of the...</td>\n",
       "    </tr>\n",
       "    <tr>\n",
       "      <th>success</th>\n",
       "      <td>True</td>\n",
       "    </tr>\n",
       "  </tbody>\n",
       "</table>\n",
       "</div>"
      ],
      "text/plain": [
       "sol                                                      None\n",
       "t_events                                     [[], [], [], []]\n",
       "nfev                                                      530\n",
       "njev                                                        0\n",
       "nlu                                                         0\n",
       "status                                                      0\n",
       "message     The solver successfully reached the end of the...\n",
       "success                                                  True\n",
       "dtype: object"
      ]
     },
     "execution_count": 219,
     "metadata": {},
     "output_type": "execute_result"
    }
   ],
   "source": [
    "results, details = run_ode_solver(system, slope_func, events=(event_func1, event_func2, event_func3, event_func4))\n",
    "details"
   ]
  },
  {
   "cell_type": "code",
   "execution_count": 220,
   "metadata": {},
   "outputs": [
    {
     "data": {
      "text/plain": [
       "0"
      ]
     },
     "execution_count": 220,
     "metadata": {},
     "output_type": "execute_result"
    }
   ],
   "source": [
    "details.t_events[0].size"
   ]
  },
  {
   "cell_type": "code",
   "execution_count": 221,
   "metadata": {},
   "outputs": [],
   "source": [
    "results.index /= 60 * 60 * 24\n",
    "results.xp /= 1e9\n",
    "results.yp /= 1e9\n",
    "results.xs1 /= 1e9\n",
    "results.ys1 /= 1e9\n",
    "results.xs2 /= 1e9\n",
    "results.ys2 /= 1e9"
   ]
  },
  {
   "cell_type": "code",
   "execution_count": 222,
   "metadata": {},
   "outputs": [
    {
     "data": {
      "text/plain": [
       "[<matplotlib.lines.Line2D at 0x19fbba6b828>]"
      ]
     },
     "execution_count": 222,
     "metadata": {},
     "output_type": "execute_result"
    },
    {
     "data": {
      "image/png": "[encoded data removed]",
      "text/plain": [
       "<Figure size 432x288 with 1 Axes>"
      ]
     },
     "metadata": {
      "needs_background": "light"
     },
     "output_type": "display_data"
    }
   ],
   "source": [
    "plot(results.xp, results.yp)\n",
    "plot(results.xs1, results.ys1)\n",
    "plot(results.xs2, results.ys2)"
   ]
  },
  {
   "cell_type": "code",
   "execution_count": 85,
   "metadata": {},
   "outputs": [],
   "source": [
    "def time_func(parameters):\n",
    "    system = make_system(parameters)\n",
    "    results, deets = run_ode_solver(system, slope_func, events=(event_func1, event_func2, event_func3, event_func4))\n",
    "    t = system.t_end\n",
    "    for time in deets.t_events:\n",
    "        if time.size == 1:\n",
    "            t = time[0]\n",
    "    print(t)\n",
    "    return t"
   ]
  },
  {
   "cell_type": "code",
   "execution_count": 88,
   "metadata": {},
   "outputs": [],
   "source": [
    "def sweep_angle(angles):\n",
    "    \n",
    "    sweep = SweepSeries()\n",
    "\n",
    "    for angle in angles:\n",
    "        parameters = Params(p, init_angle = angle)\n",
    "        time = time_func(parameters)\n",
    "        sweep[angle] = time\n",
    "        \n",
    "    return sweep"
   ]
  },
  {
   "cell_type": "code",
   "execution_count": 89,
   "metadata": {},
   "outputs": [
    {
     "name": "stdout",
     "output_type": "stream",
     "text": [
      "init_speed    35000.0 meter / second\n",
      "init_angle                   3.14159\n",
      "dist_s          150000000000.0 meter\n",
      "mass_s2               1e+30 kilogram\n",
      "dtype: object\n",
      "216000000 second\n",
      "216000000 second\n",
      "216000000 second\n",
      "179261709.52547604\n",
      "160245035.6005348\n",
      "216000000 second\n",
      "96994296.74666335\n",
      "114239559.49991667\n",
      "33136204.061716937\n",
      "30321645.892246757\n",
      "28991110.738704134\n",
      "28105317.398453962\n",
      "27410473.87056586\n",
      "26995988.888713796\n",
      "23347868.356848136\n",
      "20469978.24475644\n",
      "18661025.072033122\n",
      "17602535.319130927\n",
      "17133447.130045235\n",
      "17626735.399224255\n",
      "18752208.50196451\n"
     ]
    },
    {
     "data": {
      "text/plain": [
       "[<matplotlib.lines.Line2D at 0x19fba6e3080>]"
      ]
     },
     "execution_count": 89,
     "metadata": {},
     "output_type": "execute_result"
    },
    {
     "data": {
      "image/png": "[encoded data removed]",
      "text/plain": [
       "<Figure size 432x288 with 1 Axes>"
      ]
     },
     "metadata": {
      "needs_background": "light"
     },
     "output_type": "display_data"
    }
   ],
   "source": [
    "print(p)\n",
    "angles = linspace(pi/2, pi, 21)\n",
    "sweep = sweep_angle(angles)\n",
    "plot(sweep)"
   ]
  },
  {
   "cell_type": "code",
   "execution_count": 90,
   "metadata": {},
   "outputs": [
    {
     "data": {
      "text/html": [
       "<div>\n",
       "<style scoped>\n",
       "    .dataframe tbody tr th:only-of-type {\n",
       "        vertical-align: middle;\n",
       "    }\n",
       "\n",
       "    .dataframe tbody tr th {\n",
       "        vertical-align: top;\n",
       "    }\n",
       "\n",
       "    .dataframe thead th {\n",
       "        text-align: right;\n",
       "    }\n",
       "</style>\n",
       "<table border=\"1\" class=\"dataframe\">\n",
       "  <thead>\n",
       "    <tr style=\"text-align: right;\">\n",
       "      <th></th>\n",
       "      <th>values</th>\n",
       "    </tr>\n",
       "  </thead>\n",
       "  <tbody>\n",
       "    <tr>\n",
       "      <th>1.570796</th>\n",
       "      <td>216000000 second</td>\n",
       "    </tr>\n",
       "    <tr>\n",
       "      <th>1.649336</th>\n",
       "      <td>216000000 second</td>\n",
       "    </tr>\n",
       "    <tr>\n",
       "      <th>1.727876</th>\n",
       "      <td>216000000 second</td>\n",
       "    </tr>\n",
       "    <tr>\n",
       "      <th>1.806416</th>\n",
       "      <td>1.79262e+08</td>\n",
       "    </tr>\n",
       "    <tr>\n",
       "      <th>1.884956</th>\n",
       "      <td>1.60245e+08</td>\n",
       "    </tr>\n",
       "    <tr>\n",
       "      <th>1.963495</th>\n",
       "      <td>216000000 second</td>\n",
       "    </tr>\n",
       "    <tr>\n",
       "      <th>2.042035</th>\n",
       "      <td>9.69943e+07</td>\n",
       "    </tr>\n",
       "    <tr>\n",
       "      <th>2.120575</th>\n",
       "      <td>1.1424e+08</td>\n",
       "    </tr>\n",
       "    <tr>\n",
       "      <th>2.199115</th>\n",
       "      <td>3.31362e+07</td>\n",
       "    </tr>\n",
       "    <tr>\n",
       "      <th>2.277655</th>\n",
       "      <td>3.03216e+07</td>\n",
       "    </tr>\n",
       "    <tr>\n",
       "      <th>2.356194</th>\n",
       "      <td>2.89911e+07</td>\n",
       "    </tr>\n",
       "    <tr>\n",
       "      <th>2.434734</th>\n",
       "      <td>2.81053e+07</td>\n",
       "    </tr>\n",
       "    <tr>\n",
       "      <th>2.513274</th>\n",
       "      <td>2.74105e+07</td>\n",
       "    </tr>\n",
       "    <tr>\n",
       "      <th>2.591814</th>\n",
       "      <td>2.6996e+07</td>\n",
       "    </tr>\n",
       "    <tr>\n",
       "      <th>2.670354</th>\n",
       "      <td>2.33479e+07</td>\n",
       "    </tr>\n",
       "    <tr>\n",
       "      <th>2.748894</th>\n",
       "      <td>2.047e+07</td>\n",
       "    </tr>\n",
       "    <tr>\n",
       "      <th>2.827433</th>\n",
       "      <td>1.8661e+07</td>\n",
       "    </tr>\n",
       "    <tr>\n",
       "      <th>2.905973</th>\n",
       "      <td>1.76025e+07</td>\n",
       "    </tr>\n",
       "    <tr>\n",
       "      <th>2.984513</th>\n",
       "      <td>1.71334e+07</td>\n",
       "    </tr>\n",
       "    <tr>\n",
       "      <th>3.063053</th>\n",
       "      <td>1.76267e+07</td>\n",
       "    </tr>\n",
       "    <tr>\n",
       "      <th>3.141593</th>\n",
       "      <td>1.87522e+07</td>\n",
       "    </tr>\n",
       "  </tbody>\n",
       "</table>\n",
       "</div>"
      ],
      "text/plain": [
       "1.570796    216000000 second\n",
       "1.649336    216000000 second\n",
       "1.727876    216000000 second\n",
       "1.806416         1.79262e+08\n",
       "1.884956         1.60245e+08\n",
       "1.963495    216000000 second\n",
       "2.042035         9.69943e+07\n",
       "2.120575          1.1424e+08\n",
       "2.199115         3.31362e+07\n",
       "2.277655         3.03216e+07\n",
       "2.356194         2.89911e+07\n",
       "2.434734         2.81053e+07\n",
       "2.513274         2.74105e+07\n",
       "2.591814          2.6996e+07\n",
       "2.670354         2.33479e+07\n",
       "2.748894           2.047e+07\n",
       "2.827433          1.8661e+07\n",
       "2.905973         1.76025e+07\n",
       "2.984513         1.71334e+07\n",
       "3.063053         1.76267e+07\n",
       "3.141593         1.87522e+07\n",
       "dtype: object"
      ]
     },
     "execution_count": 90,
     "metadata": {},
     "output_type": "execute_result"
    }
   ],
   "source": [
    "sweep"
   ]
  },
  {
   "cell_type": "code",
   "execution_count": 148,
   "metadata": {},
   "outputs": [],
   "source": [
    "def sweep_speed(speeds):\n",
    "    \n",
    "    sweep = SweepSeries()\n",
    "\n",
    "    for speed in speeds:\n",
    "        parameters = Params(p, init_speed = speed)\n",
    "        time = time_func(parameters)\n",
    "        sweep[speed] = time\n",
    "        \n",
    "    return sweep"
   ]
  },
  {
   "cell_type": "code",
   "execution_count": 149,
   "metadata": {},
   "outputs": [
    {
     "name": "stdout",
     "output_type": "stream",
     "text": [
      "init_speed    35000.0 meter / second\n",
      "init_angle                    2.1205\n",
      "dist_s          150000000000.0 meter\n",
      "mass_s2               1e+30 kilogram\n",
      "dtype: object\n",
      "39211307.95390071\n",
      "36940850.16473211\n",
      "37799708.63011006\n",
      "86400000 second\n",
      "86400000 second\n",
      "86400000 second\n",
      "86400000 second\n",
      "57679445.515700184\n",
      "69402398.86705333\n",
      "31784597.90829513\n",
      "58243642.745415844\n",
      "86400000 second\n",
      "86400000 second\n",
      "32615753.9319552\n",
      "26507590.487530418\n",
      "23503513.972301524\n",
      "21430655.392461363\n",
      "19839699.579390325\n",
      "18549686.89826504\n",
      "17467387.125059254\n",
      "16537936.636376502\n"
     ]
    },
    {
     "data": {
      "text/plain": [
       "[<matplotlib.lines.Line2D at 0x19fba691358>]"
      ]
     },
     "execution_count": 149,
     "metadata": {},
     "output_type": "execute_result"
    },
    {
     "data": {
      "image/png": "[encoded data removed]",
      "text/plain": [
       "<Figure size 432x288 with 1 Axes>"
      ]
     },
     "metadata": {
      "needs_background": "light"
     },
     "output_type": "display_data"
    }
   ],
   "source": [
    "print(p)\n",
    "speeds = linspace(10000, 50000, 21)\n",
    "sweep = sweep_speed(speeds)\n",
    "plot(sweep)"
   ]
  },
  {
   "cell_type": "code",
   "execution_count": 150,
   "metadata": {},
   "outputs": [
    {
     "data": {
      "text/html": [
       "<div>\n",
       "<style scoped>\n",
       "    .dataframe tbody tr th:only-of-type {\n",
       "        vertical-align: middle;\n",
       "    }\n",
       "\n",
       "    .dataframe tbody tr th {\n",
       "        vertical-align: top;\n",
       "    }\n",
       "\n",
       "    .dataframe thead th {\n",
       "        text-align: right;\n",
       "    }\n",
       "</style>\n",
       "<table border=\"1\" class=\"dataframe\">\n",
       "  <thead>\n",
       "    <tr style=\"text-align: right;\">\n",
       "      <th></th>\n",
       "      <th>values</th>\n",
       "    </tr>\n",
       "  </thead>\n",
       "  <tbody>\n",
       "    <tr>\n",
       "      <th>10000</th>\n",
       "      <td>3.92113e+07</td>\n",
       "    </tr>\n",
       "    <tr>\n",
       "      <th>12000</th>\n",
       "      <td>3.69409e+07</td>\n",
       "    </tr>\n",
       "    <tr>\n",
       "      <th>14000</th>\n",
       "      <td>3.77997e+07</td>\n",
       "    </tr>\n",
       "    <tr>\n",
       "      <th>16000</th>\n",
       "      <td>86400000 second</td>\n",
       "    </tr>\n",
       "    <tr>\n",
       "      <th>18000</th>\n",
       "      <td>86400000 second</td>\n",
       "    </tr>\n",
       "    <tr>\n",
       "      <th>20000</th>\n",
       "      <td>86400000 second</td>\n",
       "    </tr>\n",
       "    <tr>\n",
       "      <th>22000</th>\n",
       "      <td>86400000 second</td>\n",
       "    </tr>\n",
       "    <tr>\n",
       "      <th>24000</th>\n",
       "      <td>5.76794e+07</td>\n",
       "    </tr>\n",
       "    <tr>\n",
       "      <th>26000</th>\n",
       "      <td>6.94024e+07</td>\n",
       "    </tr>\n",
       "    <tr>\n",
       "      <th>28000</th>\n",
       "      <td>3.17846e+07</td>\n",
       "    </tr>\n",
       "    <tr>\n",
       "      <th>30000</th>\n",
       "      <td>5.82436e+07</td>\n",
       "    </tr>\n",
       "    <tr>\n",
       "      <th>32000</th>\n",
       "      <td>86400000 second</td>\n",
       "    </tr>\n",
       "    <tr>\n",
       "      <th>34000</th>\n",
       "      <td>86400000 second</td>\n",
       "    </tr>\n",
       "    <tr>\n",
       "      <th>36000</th>\n",
       "      <td>3.26158e+07</td>\n",
       "    </tr>\n",
       "    <tr>\n",
       "      <th>38000</th>\n",
       "      <td>2.65076e+07</td>\n",
       "    </tr>\n",
       "    <tr>\n",
       "      <th>40000</th>\n",
       "      <td>2.35035e+07</td>\n",
       "    </tr>\n",
       "    <tr>\n",
       "      <th>42000</th>\n",
       "      <td>2.14307e+07</td>\n",
       "    </tr>\n",
       "    <tr>\n",
       "      <th>44000</th>\n",
       "      <td>1.98397e+07</td>\n",
       "    </tr>\n",
       "    <tr>\n",
       "      <th>46000</th>\n",
       "      <td>1.85497e+07</td>\n",
       "    </tr>\n",
       "    <tr>\n",
       "      <th>48000</th>\n",
       "      <td>1.74674e+07</td>\n",
       "    </tr>\n",
       "    <tr>\n",
       "      <th>50000</th>\n",
       "      <td>1.65379e+07</td>\n",
       "    </tr>\n",
       "  </tbody>\n",
       "</table>\n",
       "</div>"
      ],
      "text/plain": [
       "10000        3.92113e+07\n",
       "12000        3.69409e+07\n",
       "14000        3.77997e+07\n",
       "16000    86400000 second\n",
       "18000    86400000 second\n",
       "20000    86400000 second\n",
       "22000    86400000 second\n",
       "24000        5.76794e+07\n",
       "26000        6.94024e+07\n",
       "28000        3.17846e+07\n",
       "30000        5.82436e+07\n",
       "32000    86400000 second\n",
       "34000    86400000 second\n",
       "36000        3.26158e+07\n",
       "38000        2.65076e+07\n",
       "40000        2.35035e+07\n",
       "42000        2.14307e+07\n",
       "44000        1.98397e+07\n",
       "46000        1.85497e+07\n",
       "48000        1.74674e+07\n",
       "50000        1.65379e+07\n",
       "dtype: object"
      ]
     },
     "execution_count": 150,
     "metadata": {},
     "output_type": "execute_result"
    }
   ],
   "source": [
    "sweep"
   ]
  },
  {
   "cell_type": "code",
   "execution_count": null,
   "metadata": {},
   "outputs": [],
   "source": []
  }
 ],
 "metadata": {
  "kernelspec": {
   "display_name": "Python 3",
   "language": "python",
   "name": "python3"
  },
  "language_info": {
   "codemirror_mode": {
    "name": "ipython",
    "version": 3
   },
   "file_extension": ".py",
   "mimetype": "text/x-python",
   "name": "python",
   "nbconvert_exporter": "python",
   "pygments_lexer": "ipython3",
   "version": "3.6.6"
  }
 },
 "nbformat": 4,
 "nbformat_minor": 2
}
